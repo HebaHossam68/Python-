{
 "cells": [
  {
   "cell_type": "markdown",
   "id": "e4b5c04d",
   "metadata": {},
   "source": [
    "# Python Data Structures and Boolean\n",
    "- Boolean\n",
    "- Boolean and Logical operators\n",
    "- Lists\n",
    "- Comparison operators\n",
    "- Dictionaries\n",
    "- Tuples\n",
    "- Sets"
   ]
  },
  {
   "cell_type": "markdown",
   "id": "7ff14065",
   "metadata": {},
   "source": [
    "# Boolean "
   ]
  },
  {
   "cell_type": "code",
   "execution_count": 1,
   "id": "d47e066c-164f-4c90-82f9-ecfba993bd56",
   "metadata": {},
   "outputs": [],
   "source": [
    "str=\"Machine Learning\""
   ]
  },
  {
   "cell_type": "code",
   "execution_count": 2,
   "id": "08b33ec5-8e14-4aee-9072-aa594430b104",
   "metadata": {},
   "outputs": [
    {
     "name": "stdout",
     "output_type": "stream",
     "text": [
      "False\n",
      "False\n",
      "True\n",
      "False\n",
      "False\n",
      "True\n",
      "False\n",
      "True\n"
     ]
    }
   ],
   "source": [
    "print(str.isalnum())\n",
    "print(str.isalpha())\n",
    "print(str.isascii())\n",
    "print(str.isdigit())\n",
    "print(str.islower())\n",
    "print(str.istitle())\n",
    "print(str.startswith('H'))\n",
    "print(str.endswith('g'))"
   ]
  },
  {
   "cell_type": "markdown",
   "id": "58350169",
   "metadata": {},
   "source": [
    "# Logical operators"
   ]
  },
  {
   "cell_type": "code",
   "execution_count": 3,
   "id": "45a8d1d6",
   "metadata": {},
   "outputs": [
    {
     "data": {
      "text/plain": [
       "True"
      ]
     },
     "execution_count": 3,
     "metadata": {},
     "output_type": "execute_result"
    }
   ],
   "source": [
    "True and True"
   ]
  },
  {
   "cell_type": "code",
   "execution_count": 4,
   "id": "ce802dd7",
   "metadata": {},
   "outputs": [
    {
     "data": {
      "text/plain": [
       "False"
      ]
     },
     "execution_count": 4,
     "metadata": {},
     "output_type": "execute_result"
    }
   ],
   "source": [
    "True and False"
   ]
  },
  {
   "cell_type": "code",
   "execution_count": 5,
   "id": "aa7afada",
   "metadata": {},
   "outputs": [
    {
     "data": {
      "text/plain": [
       "True"
      ]
     },
     "execution_count": 5,
     "metadata": {},
     "output_type": "execute_result"
    }
   ],
   "source": [
    "True or False"
   ]
  },
  {
   "cell_type": "code",
   "execution_count": 6,
   "id": "6a478d3e",
   "metadata": {},
   "outputs": [
    {
     "data": {
      "text/plain": [
       "True"
      ]
     },
     "execution_count": 6,
     "metadata": {},
     "output_type": "execute_result"
    }
   ],
   "source": [
    "my_str=\"Al-Ahly is 1\"\n",
    "ss=\"Zamalek\"\n",
    "ss.isalpha() or my_str.isalnum()"
   ]
  },
  {
   "cell_type": "markdown",
   "id": "feacbdad",
   "metadata": {},
   "source": [
    "# Lists"
   ]
  },
  {
   "cell_type": "code",
   "execution_count": 7,
   "id": "84af1aec",
   "metadata": {},
   "outputs": [
    {
     "data": {
      "text/plain": [
       "list"
      ]
     },
     "execution_count": 7,
     "metadata": {},
     "output_type": "execute_result"
    }
   ],
   "source": [
    "type([])"
   ]
  },
  {
   "cell_type": "code",
   "execution_count": 8,
   "id": "3c22be02",
   "metadata": {},
   "outputs": [
    {
     "data": {
      "text/plain": [
       "5"
      ]
     },
     "execution_count": 8,
     "metadata": {},
     "output_type": "execute_result"
    }
   ],
   "source": [
    "lst=[\"Machine Learning\",\"NLp\",100,200,300]\n",
    "len(lst)"
   ]
  },
  {
   "cell_type": "markdown",
   "id": "778f6f91",
   "metadata": {},
   "source": [
    "append"
   ]
  },
  {
   "cell_type": "code",
   "execution_count": 9,
   "id": "25d67697",
   "metadata": {},
   "outputs": [],
   "source": [
    "lst.append('Deep Learning')"
   ]
  },
  {
   "cell_type": "code",
   "execution_count": 10,
   "id": "4daf1eaa",
   "metadata": {},
   "outputs": [
    {
     "data": {
      "text/plain": [
       "['Machine Learning', 'NLp', 100, 200, 300, 'Deep Learning']"
      ]
     },
     "execution_count": 10,
     "metadata": {},
     "output_type": "execute_result"
    }
   ],
   "source": [
    "lst"
   ]
  },
  {
   "cell_type": "code",
   "execution_count": 11,
   "id": "cde189e3",
   "metadata": {},
   "outputs": [
    {
     "data": {
      "text/plain": [
       "200"
      ]
     },
     "execution_count": 11,
     "metadata": {},
     "output_type": "execute_result"
    }
   ],
   "source": [
    "lst[3]"
   ]
  },
  {
   "cell_type": "code",
   "execution_count": 12,
   "id": "b346a115",
   "metadata": {},
   "outputs": [
    {
     "data": {
      "text/plain": [
       "['Machine Learning', 'NLp', 100, 200, 300, 'Deep Learning']"
      ]
     },
     "execution_count": 12,
     "metadata": {},
     "output_type": "execute_result"
    }
   ],
   "source": [
    "lst[:] #all elements will picked up"
   ]
  },
  {
   "cell_type": "code",
   "execution_count": 13,
   "id": "e5e8cc0e",
   "metadata": {},
   "outputs": [
    {
     "data": {
      "text/plain": [
       "['NLp', 100, 200, 300, 'Deep Learning']"
      ]
     },
     "execution_count": 13,
     "metadata": {},
     "output_type": "execute_result"
    }
   ],
   "source": [
    "lst[1:] #elements from index 1 to last "
   ]
  },
  {
   "cell_type": "code",
   "execution_count": 14,
   "id": "07e4f814",
   "metadata": {},
   "outputs": [
    {
     "data": {
      "text/plain": [
       "['NLp', 100, 200, 300, 'Deep Learning']"
      ]
     },
     "execution_count": 14,
     "metadata": {},
     "output_type": "execute_result"
    }
   ],
   "source": [
    "lst[1:6] #elements from index 2 to element of index 6"
   ]
  },
  {
   "cell_type": "markdown",
   "id": "e23004ed",
   "metadata": {},
   "source": [
    "insert"
   ]
  },
  {
   "cell_type": "code",
   "execution_count": 15,
   "id": "e9862d51",
   "metadata": {},
   "outputs": [],
   "source": [
    "lst.insert(6,\"Algorithms\")"
   ]
  },
  {
   "cell_type": "code",
   "execution_count": 16,
   "id": "778e2f1b",
   "metadata": {},
   "outputs": [
    {
     "data": {
      "text/plain": [
       "['Machine Learning', 'NLp', 100, 200, 300, 'Deep Learning', 'Algorithms']"
      ]
     },
     "execution_count": 16,
     "metadata": {},
     "output_type": "execute_result"
    }
   ],
   "source": [
    "lst"
   ]
  },
  {
   "cell_type": "markdown",
   "id": "50fee6b6",
   "metadata": {},
   "source": [
    "extend"
   ]
  },
  {
   "cell_type": "code",
   "execution_count": 17,
   "id": "218da45a",
   "metadata": {},
   "outputs": [],
   "source": [
    "Lst=[1,2,3,4,5,6]"
   ]
  },
  {
   "cell_type": "code",
   "execution_count": 18,
   "id": "5c1b9552",
   "metadata": {},
   "outputs": [],
   "source": [
    "Lst.extend([7,8,9])"
   ]
  },
  {
   "cell_type": "code",
   "execution_count": 19,
   "id": "3d030f97",
   "metadata": {},
   "outputs": [
    {
     "data": {
      "text/plain": [
       "[1, 2, 3, 4, 5, 6, 7, 8, 9]"
      ]
     },
     "execution_count": 19,
     "metadata": {},
     "output_type": "execute_result"
    }
   ],
   "source": [
    "Lst"
   ]
  },
  {
   "cell_type": "markdown",
   "id": "1b84b417",
   "metadata": {},
   "source": [
    "# various operations on lists"
   ]
  },
  {
   "cell_type": "code",
   "execution_count": 20,
   "id": "1f9d84bf",
   "metadata": {},
   "outputs": [],
   "source": [
    "List=[1,2,3,4,5]"
   ]
  },
  {
   "cell_type": "code",
   "execution_count": 21,
   "id": "f1d57b48",
   "metadata": {},
   "outputs": [
    {
     "data": {
      "text/plain": [
       "15"
      ]
     },
     "execution_count": 21,
     "metadata": {},
     "output_type": "execute_result"
    }
   ],
   "source": [
    "sum(List)"
   ]
  },
  {
   "cell_type": "code",
   "execution_count": 22,
   "id": "d6b899ee",
   "metadata": {},
   "outputs": [
    {
     "data": {
      "text/plain": [
       "5"
      ]
     },
     "execution_count": 22,
     "metadata": {},
     "output_type": "execute_result"
    }
   ],
   "source": [
    "List.pop()"
   ]
  },
  {
   "cell_type": "code",
   "execution_count": 23,
   "id": "331f87b6",
   "metadata": {},
   "outputs": [
    {
     "data": {
      "text/plain": [
       "[1, 2, 3, 4]"
      ]
     },
     "execution_count": 23,
     "metadata": {},
     "output_type": "execute_result"
    }
   ],
   "source": [
    "List"
   ]
  },
  {
   "cell_type": "code",
   "execution_count": 24,
   "id": "a75d8077",
   "metadata": {},
   "outputs": [
    {
     "data": {
      "text/plain": [
       "3"
      ]
     },
     "execution_count": 24,
     "metadata": {},
     "output_type": "execute_result"
    }
   ],
   "source": [
    "List.pop(2)"
   ]
  },
  {
   "cell_type": "code",
   "execution_count": 25,
   "id": "e7249d23",
   "metadata": {},
   "outputs": [
    {
     "data": {
      "text/plain": [
       "[1, 2, 4]"
      ]
     },
     "execution_count": 25,
     "metadata": {},
     "output_type": "execute_result"
    }
   ],
   "source": [
    "List"
   ]
  },
  {
   "cell_type": "markdown",
   "id": "7f8f6f22",
   "metadata": {},
   "source": [
    "# InBuilt Functions"
   ]
  },
  {
   "cell_type": "code",
   "execution_count": 26,
   "id": "91e54b66",
   "metadata": {},
   "outputs": [
    {
     "data": {
      "text/plain": [
       "3"
      ]
     },
     "execution_count": 26,
     "metadata": {},
     "output_type": "execute_result"
    }
   ],
   "source": [
    "#count the occurence of element\n",
    "l=[1,1,1,2,3]\n",
    "l.count(1)"
   ]
  },
  {
   "cell_type": "code",
   "execution_count": 27,
   "id": "84d2399f",
   "metadata": {},
   "outputs": [
    {
     "data": {
      "text/plain": [
       "0"
      ]
     },
     "execution_count": 27,
     "metadata": {},
     "output_type": "execute_result"
    }
   ],
   "source": [
    "l.index(1,0,4) #return index of first occurence"
   ]
  },
  {
   "cell_type": "code",
   "execution_count": 28,
   "id": "c34278fc",
   "metadata": {},
   "outputs": [
    {
     "data": {
      "text/plain": [
       "3"
      ]
     },
     "execution_count": 28,
     "metadata": {},
     "output_type": "execute_result"
    }
   ],
   "source": [
    "l.index(2,0,4) #return index of first occurence"
   ]
  },
  {
   "cell_type": "code",
   "execution_count": 29,
   "id": "215d6a37",
   "metadata": {},
   "outputs": [
    {
     "data": {
      "text/plain": [
       "1"
      ]
     },
     "execution_count": 29,
     "metadata": {},
     "output_type": "execute_result"
    }
   ],
   "source": [
    "min(l)"
   ]
  },
  {
   "cell_type": "code",
   "execution_count": 30,
   "id": "19df5d17",
   "metadata": {},
   "outputs": [
    {
     "data": {
      "text/plain": [
       "3"
      ]
     },
     "execution_count": 30,
     "metadata": {},
     "output_type": "execute_result"
    }
   ],
   "source": [
    "max(l)"
   ]
  },
  {
   "cell_type": "code",
   "execution_count": 31,
   "id": "b1e17aac",
   "metadata": {},
   "outputs": [
    {
     "data": {
      "text/plain": [
       "[1, 1, 1, 2, 3, 1, 1, 1, 2, 3]"
      ]
     },
     "execution_count": 31,
     "metadata": {},
     "output_type": "execute_result"
    }
   ],
   "source": [
    "l*2"
   ]
  },
  {
   "cell_type": "markdown",
   "id": "05e5390e",
   "metadata": {},
   "source": [
    "# Sets"
   ]
  },
  {
   "cell_type": "code",
   "execution_count": 32,
   "id": "8dddb901",
   "metadata": {},
   "outputs": [],
   "source": [
    "sett=set()"
   ]
  },
  {
   "cell_type": "code",
   "execution_count": 33,
   "id": "36f33e1a",
   "metadata": {},
   "outputs": [
    {
     "data": {
      "text/plain": [
       "set"
      ]
     },
     "execution_count": 33,
     "metadata": {},
     "output_type": "execute_result"
    }
   ],
   "source": [
    "type(sett)"
   ]
  },
  {
   "cell_type": "code",
   "execution_count": 34,
   "id": "4a74ff09",
   "metadata": {},
   "outputs": [],
   "source": [
    "sett={'Data structuers','Algorithms','Artifitial intelligence'}"
   ]
  },
  {
   "cell_type": "code",
   "execution_count": 35,
   "id": "6769e173",
   "metadata": {},
   "outputs": [
    {
     "data": {
      "text/plain": [
       "{'Algorithms', 'Artifitial intelligence', 'Data structuers'}"
      ]
     },
     "execution_count": 35,
     "metadata": {},
     "output_type": "execute_result"
    }
   ],
   "source": [
    "sett"
   ]
  },
  {
   "cell_type": "code",
   "execution_count": 36,
   "id": "75d4c0d8",
   "metadata": {},
   "outputs": [],
   "source": [
    "sett.add('Software Engineering')"
   ]
  },
  {
   "cell_type": "code",
   "execution_count": 37,
   "id": "f4fabcee",
   "metadata": {},
   "outputs": [
    {
     "data": {
      "text/plain": [
       "{'Algorithms',\n",
       " 'Artifitial intelligence',\n",
       " 'Data structuers',\n",
       " 'Software Engineering'}"
      ]
     },
     "execution_count": 37,
     "metadata": {},
     "output_type": "execute_result"
    }
   ],
   "source": [
    "sett"
   ]
  },
  {
   "cell_type": "code",
   "execution_count": 38,
   "id": "0dedfaac",
   "metadata": {},
   "outputs": [],
   "source": [
    "set1={'Data structuers','Algorithms','Artifitial intelligence'}\n",
    "set2={'Data structuers','Algorithms','Artifitial intelligence','Concepts of programming languages'}"
   ]
  },
  {
   "cell_type": "code",
   "execution_count": 39,
   "id": "9eebbd3e",
   "metadata": {},
   "outputs": [
    {
     "data": {
      "text/plain": [
       "{'Concepts of programming languages'}"
      ]
     },
     "execution_count": 39,
     "metadata": {},
     "output_type": "execute_result"
    }
   ],
   "source": [
    "set2.difference(set1)"
   ]
  },
  {
   "cell_type": "code",
   "execution_count": 40,
   "id": "c614ea2c",
   "metadata": {},
   "outputs": [
    {
     "data": {
      "text/plain": [
       "{'Algorithms', 'Artifitial intelligence', 'Data structuers'}"
      ]
     },
     "execution_count": 40,
     "metadata": {},
     "output_type": "execute_result"
    }
   ],
   "source": [
    "set2.intersection(set1)"
   ]
  },
  {
   "cell_type": "markdown",
   "id": "ff853073",
   "metadata": {},
   "source": [
    "# Dictionary\n"
   ]
  },
  {
   "cell_type": "code",
   "execution_count": 43,
   "id": "4558ca7a",
   "metadata": {},
   "outputs": [],
   "source": [
    "dic={}"
   ]
  },
  {
   "cell_type": "code",
   "execution_count": 44,
   "id": "3ba37a44",
   "metadata": {},
   "outputs": [
    {
     "data": {
      "text/plain": [
       "dict"
      ]
     },
     "execution_count": 44,
     "metadata": {},
     "output_type": "execute_result"
    }
   ],
   "source": [
    "type(dic)"
   ]
  },
  {
   "cell_type": "code",
   "execution_count": 46,
   "id": "0d14494c",
   "metadata": {},
   "outputs": [],
   "source": [
    "dic={1:\"SP\",2:\"DS\",3:\"Algo\"}"
   ]
  },
  {
   "cell_type": "code",
   "execution_count": 47,
   "id": "d90132e1",
   "metadata": {},
   "outputs": [
    {
     "data": {
      "text/plain": [
       "{1: 'SP', 2: 'DS', 3: 'Algo'}"
      ]
     },
     "execution_count": 47,
     "metadata": {},
     "output_type": "execute_result"
    }
   ],
   "source": [
    "dic"
   ]
  },
  {
   "cell_type": "code",
   "execution_count": 48,
   "id": "40652597",
   "metadata": {},
   "outputs": [
    {
     "data": {
      "text/plain": [
       "'SP'"
      ]
     },
     "execution_count": 48,
     "metadata": {},
     "output_type": "execute_result"
    }
   ],
   "source": [
    "dic[1]"
   ]
  },
  {
   "cell_type": "code",
   "execution_count": 49,
   "id": "ac72ce60",
   "metadata": {},
   "outputs": [
    {
     "name": "stdout",
     "output_type": "stream",
     "text": [
      "1\n",
      "2\n",
      "3\n"
     ]
    }
   ],
   "source": [
    "for x in dic:\n",
    "    print(x)"
   ]
  },
  {
   "cell_type": "code",
   "execution_count": 50,
   "id": "9ff233d9",
   "metadata": {},
   "outputs": [
    {
     "name": "stdout",
     "output_type": "stream",
     "text": [
      "SP\n",
      "DS\n",
      "Algo\n"
     ]
    }
   ],
   "source": [
    "for i in dic.values():\n",
    "    print(i)"
   ]
  },
  {
   "cell_type": "code",
   "execution_count": 51,
   "id": "c542b8e3",
   "metadata": {},
   "outputs": [
    {
     "name": "stdout",
     "output_type": "stream",
     "text": [
      "(1, 'SP')\n",
      "(2, 'DS')\n",
      "(3, 'Algo')\n"
     ]
    }
   ],
   "source": [
    "for i in dic.items():\n",
    "    print(i)"
   ]
  },
  {
   "cell_type": "code",
   "execution_count": 52,
   "id": "7e07dc1e",
   "metadata": {},
   "outputs": [],
   "source": [
    "dic[1]='Electronics'"
   ]
  },
  {
   "cell_type": "code",
   "execution_count": 53,
   "id": "7f030545",
   "metadata": {},
   "outputs": [
    {
     "data": {
      "text/plain": [
       "{1: 'Electronics', 2: 'DS', 3: 'Algo'}"
      ]
     },
     "execution_count": 53,
     "metadata": {},
     "output_type": "execute_result"
    }
   ],
   "source": [
    "dic"
   ]
  },
  {
   "cell_type": "markdown",
   "id": "d5545441",
   "metadata": {},
   "source": [
    "# Nested Dictionary"
   ]
  },
  {
   "cell_type": "code",
   "execution_count": 54,
   "id": "76c96c19",
   "metadata": {},
   "outputs": [],
   "source": [
    "first={1:'first'}\n",
    "second={2:'second'}\n",
    "semester={1:first,2:second}"
   ]
  },
  {
   "cell_type": "code",
   "execution_count": 55,
   "id": "fa36c0a1",
   "metadata": {},
   "outputs": [
    {
     "data": {
      "text/plain": [
       "{1: {1: 'first'}, 2: {2: 'second'}}"
      ]
     },
     "execution_count": 55,
     "metadata": {},
     "output_type": "execute_result"
    }
   ],
   "source": [
    "semester"
   ]
  },
  {
   "cell_type": "code",
   "execution_count": 57,
   "id": "e2274984",
   "metadata": {},
   "outputs": [
    {
     "name": "stdout",
     "output_type": "stream",
     "text": [
      "first\n"
     ]
    }
   ],
   "source": [
    "print(semester[1][1])"
   ]
  },
  {
   "cell_type": "markdown",
   "id": "5ae53643",
   "metadata": {},
   "source": [
    "# Tuples"
   ]
  },
  {
   "cell_type": "code",
   "execution_count": 58,
   "id": "d424b4f6",
   "metadata": {},
   "outputs": [],
   "source": [
    "my_tuple=tuple()"
   ]
  },
  {
   "cell_type": "code",
   "execution_count": 59,
   "id": "94c1452c",
   "metadata": {},
   "outputs": [
    {
     "data": {
      "text/plain": [
       "tuple"
      ]
     },
     "execution_count": 59,
     "metadata": {},
     "output_type": "execute_result"
    }
   ],
   "source": [
    "type(my_tuple)"
   ]
  },
  {
   "cell_type": "code",
   "execution_count": 61,
   "id": "9b935721",
   "metadata": {},
   "outputs": [],
   "source": [
    "my_tuple=('Machine','NLp')"
   ]
  },
  {
   "cell_type": "code",
   "execution_count": 62,
   "id": "7de95bfe",
   "metadata": {},
   "outputs": [
    {
     "data": {
      "text/plain": [
       "('Machine', 'NLp')"
      ]
     },
     "execution_count": 62,
     "metadata": {},
     "output_type": "execute_result"
    }
   ],
   "source": [
    "my_tuple"
   ]
  },
  {
   "cell_type": "code",
   "execution_count": 63,
   "id": "5f2e9cd5",
   "metadata": {},
   "outputs": [],
   "source": [
    "my_tuple=('Algo','Data science')"
   ]
  },
  {
   "cell_type": "code",
   "execution_count": 64,
   "id": "ef5607bc",
   "metadata": {},
   "outputs": [
    {
     "data": {
      "text/plain": [
       "('Algo', 'Data science')"
      ]
     },
     "execution_count": 64,
     "metadata": {},
     "output_type": "execute_result"
    }
   ],
   "source": [
    "my_tuple"
   ]
  },
  {
   "cell_type": "code",
   "execution_count": 65,
   "id": "e20deff3",
   "metadata": {},
   "outputs": [
    {
     "data": {
      "text/plain": [
       "1"
      ]
     },
     "execution_count": 65,
     "metadata": {},
     "output_type": "execute_result"
    }
   ],
   "source": [
    "my_tuple.count('Algo')"
   ]
  },
  {
   "cell_type": "code",
   "execution_count": 66,
   "id": "1958652f",
   "metadata": {},
   "outputs": [],
   "source": [
    "my_tuple=('Algo','Data science','Algo')"
   ]
  },
  {
   "cell_type": "code",
   "execution_count": 67,
   "id": "52b73ff2",
   "metadata": {},
   "outputs": [
    {
     "data": {
      "text/plain": [
       "2"
      ]
     },
     "execution_count": 67,
     "metadata": {},
     "output_type": "execute_result"
    }
   ],
   "source": [
    "my_tuple.count('Algo')"
   ]
  },
  {
   "cell_type": "code",
   "execution_count": 68,
   "id": "181f2ca1",
   "metadata": {},
   "outputs": [
    {
     "data": {
      "text/plain": [
       "1"
      ]
     },
     "execution_count": 68,
     "metadata": {},
     "output_type": "execute_result"
    }
   ],
   "source": [
    "my_tuple.index('Data science')"
   ]
  },
  {
   "cell_type": "code",
   "execution_count": null,
   "id": "ae18d10f",
   "metadata": {},
   "outputs": [],
   "source": []
  }
 ],
 "metadata": {
  "kernelspec": {
   "display_name": "Python 3 (ipykernel)",
   "language": "python",
   "name": "python3"
  },
  "language_info": {
   "codemirror_mode": {
    "name": "ipython",
    "version": 3
   },
   "file_extension": ".py",
   "mimetype": "text/x-python",
   "name": "python",
   "nbconvert_exporter": "python",
   "pygments_lexer": "ipython3",
   "version": "3.9.13"
  }
 },
 "nbformat": 4,
 "nbformat_minor": 5
}
